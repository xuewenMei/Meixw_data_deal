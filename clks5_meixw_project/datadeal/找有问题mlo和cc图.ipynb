{
 "cells": [
  {
   "cell_type": "code",
   "execution_count": 1,
   "metadata": {},
   "outputs": [],
   "source": [
    "import os\n",
    "import cv2\n",
    "import shutil\n",
    "\n",
    "\n",
    "def count_images_in_directory(directory_path):\n",
    "    image_extensions = ['.jpg', '.jpeg', '.png', '.gif', '.bmp']\n",
    "    \n",
    "    image_count = 0\n",
    "    for filename in os.listdir(directory_path):\n",
    "        extension = os.path.splitext(filename)[1].lower()\n",
    "        \n",
    "        # 如果文件扩展名在支持的图片格式列表中，则增加计数器\n",
    "        if extension in image_extensions:\n",
    "            image_count += 1\n",
    "            \n",
    "    return image_count\n",
    "\n",
    "\n",
    "n=0\n",
    "orgpath=r'/data_hs/sjwlab/meixuewen/project2/dataset/localduo_data/myim2'\n",
    "im_path=r'/data_hs/sjwlab/meixuewen/project2/dataset/localduo_data/myim_cro_final'\n",
    "outpath=r'/data_hs/sjwlab/meixuewen/project2/dataset/redealname'\n",
    "for idfile in os.listdir(im_path):\n",
    "    idpath=os.path.join(im_path,idfile)\n",
    "    # for im in os.listdir(idpath):\n",
    "    #     impath=os.path.join(idpath,im)\n",
    "    if count_images_in_directory(idpath)==1:\n",
    "#             n+=1\n",
    "#             print(idpath)\n",
    "\n",
    "        shutil.copytree(os.path.join(orgpath,idfile),os.path.join(outpath,idfile))\n",
    "\n",
    "# print(n)\n"
   ]
  }
 ],
 "metadata": {
  "kernelspec": {
   "display_name": "meixw",
   "language": "python",
   "name": "python3"
  },
  "language_info": {
   "codemirror_mode": {
    "name": "ipython",
    "version": 3
   },
   "file_extension": ".py",
   "mimetype": "text/x-python",
   "name": "python",
   "nbconvert_exporter": "python",
   "pygments_lexer": "ipython3",
   "version": "3.8.19"
  }
 },
 "nbformat": 4,
 "nbformat_minor": 2
}
