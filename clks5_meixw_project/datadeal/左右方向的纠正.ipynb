{
 "cells": [
  {
   "cell_type": "code",
   "execution_count": 7,
   "metadata": {},
   "outputs": [
    {
     "name": "stdout",
     "output_type": "stream",
     "text": [
      "LEFT\n"
     ]
    }
   ],
   "source": [
    "import cv2\n",
    "import numpy as np\n",
    "\n",
    "def split_and_calculate_black_pixels_ratio(img):\n",
    "    width = img.shape[1]\n",
    "    split_line = width // 2\n",
    "    \n",
    "    left_half = img[:, :split_line]\n",
    "    right_half = img[:, split_line:]\n",
    "\n",
    "    def black_pixel_ratio(half_img):\n",
    "        mask = np.all(half_img == [0, 0, 0], axis=-1)\n",
    "        black_pixels = np.count_nonzero(mask)\n",
    "        total_pixels = half_img.size // 3  # 因为是三通道图像\n",
    "        ratio = black_pixels / total_pixels if total_pixels > 0 else 0\n",
    "        return ratio\n",
    "    \n",
    "    left_ratio = black_pixel_ratio(left_half)\n",
    "    right_ratio = black_pixel_ratio(right_half)\n",
    "    \n",
    "    if left_ratio> right_ratio:\n",
    "        flag='RIGHT'\n",
    "    elif left_ratio< right_ratio:\n",
    "        flag='LEFT'\n",
    "    return flag\n",
    "\n",
    "path=r'/data_hs/sjwlab/meixuewen/project2/dataset/orglocal/all_images/CR2809207LEFT/DXm.1.2.392.200036.9125.4.0.873405632.337315176.264908388.png'\n",
    "\n",
    "img=cv2.imread(path)\n",
    "# img[img>=30]=255\n",
    "print(split_and_calculate_black_pixels_ratio(img))\n"
   ]
  },
  {
   "cell_type": "code",
   "execution_count": null,
   "metadata": {},
   "outputs": [],
   "source": [
    "import os\n",
    "import cv2\n",
    "import numpy as np\n",
    "\n",
    "org_path=r''\n",
    "\n",
    "for idfile in os.listdir(org_path):\n",
    "    idpath=os.path.join(org_path,idfile)\n",
    "    # idoutpath=os.path.join(org_path,idfile)\n",
    "    # os.makedirs(idoutpath,exist_ok=True)\n",
    "\n",
    "    for viewfile in os.listdir(idpath):\n",
    "        viewpath=os.path.join(idpath,viewfile)\n",
    "        viewoutpath=os.path.join(idoutpath,viewfile)\n",
    "        os.makedirs(viewoutpath,exist_ok=True)\n",
    "\n",
    "        for imfile in os.listdir(viewpath):\n",
    "            impath=os.path.join(viewpath,imfile)\n",
    "            imoutpath=os.path.join(viewoutpath,imfile)\n",
    "            img=cv2.imread(impath)"
   ]
  }
 ],
 "metadata": {
  "kernelspec": {
   "display_name": "meixw",
   "language": "python",
   "name": "python3"
  },
  "language_info": {
   "codemirror_mode": {
    "name": "ipython",
    "version": 3
   },
   "file_extension": ".py",
   "mimetype": "text/x-python",
   "name": "python",
   "nbconvert_exporter": "python",
   "pygments_lexer": "ipython3",
   "version": "3.8.19"
  }
 },
 "nbformat": 4,
 "nbformat_minor": 2
}
