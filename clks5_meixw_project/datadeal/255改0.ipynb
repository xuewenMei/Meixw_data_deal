{
 "cells": [
  {
   "cell_type": "code",
   "execution_count": 1,
   "metadata": {},
   "outputs": [
    {
     "name": "stdout",
     "output_type": "stream",
     "text": [
      "Processed image saved at output_image.png\n"
     ]
    }
   ],
   "source": [
    "import numpy as np\n",
    "from PIL import Image\n",
    "\n",
    "def replace_white_with_black(image_path, output_path):\n",
    "\n",
    "    img = Image.open(image_path).convert('L')\n",
    "    img_array = np.array(img)\n",
    "    img_array[img_array == 255] = 0\n",
    "\n",
    "    result_img = Image.fromarray(img_array.astype('uint8'))\n",
    "    result_img.save(output_path)\n",
    "\n",
    "input_image_path = '/data_hs/sjwlab/meixuewen/project2/dataset/localduo_data/images_two_many/CR2803854LEFT/mlo/DXm.1.2.392.200036.9125.4.0.705662578.4851048.1573523479.png'\n",
    "output_image_path = 'output_image.png'\n",
    "\n",
    "replace_white_with_black(input_image_path, output_image_path)\n",
    "print(f\"Processed image saved at {output_image_path}\")"
   ]
  }
 ],
 "metadata": {
  "kernelspec": {
   "display_name": "meixw",
   "language": "python",
   "name": "python3"
  },
  "language_info": {
   "codemirror_mode": {
    "name": "ipython",
    "version": 3
   },
   "file_extension": ".py",
   "mimetype": "text/x-python",
   "name": "python",
   "nbconvert_exporter": "python",
   "pygments_lexer": "ipython3",
   "version": "3.8.19"
  }
 },
 "nbformat": 4,
 "nbformat_minor": 2
}
